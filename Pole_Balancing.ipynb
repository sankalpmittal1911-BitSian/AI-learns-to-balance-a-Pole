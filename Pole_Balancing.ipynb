{
  "nbformat": 4,
  "nbformat_minor": 0,
  "metadata": {
    "colab": {
      "name": "Untitled8.ipynb",
      "version": "0.3.2",
      "provenance": []
    },
    "kernelspec": {
      "name": "python3",
      "display_name": "Python 3"
    }
  },
  "cells": [
    {
      "metadata": {
        "id": "mSCyPIwUgaAB",
        "colab_type": "text"
      },
      "cell_type": "markdown",
      "source": [
        "First, We need to import packages which are necessary."
      ]
    },
    {
      "metadata": {
        "id": "vovIxXu7gSfZ",
        "colab_type": "code",
        "colab": {}
      },
      "cell_type": "code",
      "source": [
        "import gym\n",
        "import numpy as np\n",
        "from collections import deque\n",
        "import matplotlib.pyplot as plt\n",
        "%matplotlib inline"
      ],
      "execution_count": 0,
      "outputs": []
    },
    {
      "metadata": {
        "id": "QcZf46mAgjJ-",
        "colab_type": "text"
      },
      "cell_type": "markdown",
      "source": [
        "Then we define a POLICY:\n"
      ]
    },
    {
      "metadata": {
        "id": "-clpBGq7gT93",
        "colab_type": "code",
        "colab": {
          "base_uri": "https://localhost:8080/",
          "height": 52
        },
        "outputId": "c2db914c-f4e3-4a37-a6ea-852d53fb6688"
      },
      "cell_type": "code",
      "source": [
        "env = gym.make('CartPole-v0')\n",
        "print('observation space:', env.observation_space)\n",
        "print('action space:', env.action_space)\n",
        "\n",
        "class Policy():\n",
        "    def __init__(self, s_size=4, a_size=2):\n",
        "        self.w = 1e-4*np.random.rand(s_size, a_size)  # weights for simple linear policy: state_space x action_space\n",
        "        \n",
        "    def forward(self, state):\n",
        "        x = np.dot(state, self.w)\n",
        "        return np.exp(x)/sum(np.exp(x))\n",
        "    \n",
        "    def act(self, state):\n",
        "        probs = self.forward(state)\n",
        "        # option 1: stochastic policy\n",
        "        #action = np.random.choice(2, p=probs) \n",
        "        # option 2: deterministic policy\n",
        "        action = np.argmax(probs)              \n",
        "        return action"
      ],
      "execution_count": 7,
      "outputs": [
        {
          "output_type": "stream",
          "text": [
            "observation space: Box(4,)\n",
            "action space: Discrete(2)\n"
          ],
          "name": "stdout"
        }
      ]
    },
    {
      "metadata": {
        "id": "SCoYDT6sg9ke",
        "colab_type": "text"
      },
      "cell_type": "markdown",
      "source": [
        "We use Stochastic Policy Search to train our agent:"
      ]
    },
    {
      "metadata": {
        "id": "D8o2kASmgwBc",
        "colab_type": "code",
        "colab": {
          "base_uri": "https://localhost:8080/",
          "height": 52
        },
        "outputId": "5a8cf075-3449-4f08-af3e-49081192aa29"
      },
      "cell_type": "code",
      "source": [
        "env = gym.make('CartPole-v0')\n",
        "env.seed(0)\n",
        "np.random.seed(0)\n",
        "\n",
        "policy = Policy()\n",
        "\n",
        "def hill_climbing(n_episodes=1000, max_t=1000, gamma=1.0, print_every=100, noise_scale=1e-2):\n",
        "    \"\"\"Implementation of hill climbing with adaptive noise scaling.\n",
        "        \n",
        "    Params\n",
        "    ======\n",
        "        n_episodes (int): maximum number of training episodes\n",
        "        max_t (int): maximum number of timesteps per episode\n",
        "        gamma (float): discount rate\n",
        "        print_every (int): how often to print average score (over last 100 episodes)\n",
        "        noise_scale (float): standard deviation of additive noise\n",
        "    \"\"\"\n",
        "    scores_deque = deque(maxlen=100)\n",
        "    scores = []\n",
        "    best_R = -np.Inf\n",
        "    best_w = policy.w\n",
        "    for i_episode in range(1, n_episodes+1):\n",
        "        rewards = []\n",
        "        state = env.reset()\n",
        "        for t in range(max_t):\n",
        "            action = policy.act(state)\n",
        "            state, reward, done, _ = env.step(action)\n",
        "            rewards.append(reward)\n",
        "            if done:\n",
        "                break \n",
        "        scores_deque.append(sum(rewards))\n",
        "        scores.append(sum(rewards))\n",
        "\n",
        "        discounts = [gamma**i for i in range(len(rewards)+1)]\n",
        "        R = sum([a*b for a,b in zip(discounts, rewards)])\n",
        "\n",
        "        if R >= best_R: # found better weights\n",
        "            best_R = R\n",
        "            best_w = policy.w\n",
        "            noise_scale = max(1e-3, noise_scale / 2)\n",
        "            policy.w += noise_scale * np.random.rand(*policy.w.shape) \n",
        "        else: # did not find better weights\n",
        "            noise_scale = min(2, noise_scale * 2)\n",
        "            policy.w = best_w + noise_scale * np.random.rand(*policy.w.shape)\n",
        "\n",
        "        if i_episode % print_every == 0:\n",
        "            print('Episode {}\\tAverage Score: {:.2f}'.format(i_episode, np.mean(scores_deque)))\n",
        "        if np.mean(scores_deque)>=195.0:\n",
        "            print('Environment solved in {:d} episodes!\\tAverage Score: {:.2f}'.format(i_episode-100, np.mean(scores_deque)))\n",
        "            policy.w = best_w\n",
        "            break\n",
        "        \n",
        "    return scores\n",
        "            \n",
        "scores = hill_climbing()"
      ],
      "execution_count": 8,
      "outputs": [
        {
          "output_type": "stream",
          "text": [
            "Episode 100\tAverage Score: 175.24\n",
            "Environment solved in 13 episodes!\tAverage Score: 196.21\n"
          ],
          "name": "stdout"
        }
      ]
    },
    {
      "metadata": {
        "id": "-coY0J0DhP_P",
        "colab_type": "text"
      },
      "cell_type": "markdown",
      "source": [
        "SCORES OBVIOUSLY!"
      ]
    },
    {
      "metadata": {
        "id": "dVrqPTGRhI8u",
        "colab_type": "code",
        "colab": {
          "base_uri": "https://localhost:8080/",
          "height": 279
        },
        "outputId": "cfcedd48-625a-4076-abb4-04d3ecf910f8"
      },
      "cell_type": "code",
      "source": [
        "fig = plt.figure()\n",
        "ax = fig.add_subplot(111)\n",
        "plt.plot(np.arange(1, len(scores)+1), scores)\n",
        "plt.ylabel('Score')\n",
        "plt.xlabel('Episode #')\n",
        "plt.show()"
      ],
      "execution_count": 9,
      "outputs": [
        {
          "output_type": "display_data",
          "data": {
            "image/png": "[encoded data removed]",
            "text/plain": [
              "<Figure size 432x288 with 1 Axes>"
            ]
          },
          "metadata": {
            "tags": []
          }
        }
      ]
    },
    {
      "metadata": {
        "id": "houRI4AVhXFR",
        "colab_type": "code",
        "colab": {}
      },
      "cell_type": "code",
      "source": [
        "env = gym.make('CartPole-v0')\n",
        "state = env.reset()\n",
        "for t in range(200):\n",
        "    action = policy.act(state)\n",
        "    env.render()\n",
        "    state, reward, done, _ = env.step(action)\n",
        "    if done:\n",
        "        break \n",
        "\n",
        "env.close()"
      ],
      "execution_count": 0,
      "outputs": []
    },
    {
      "metadata": {
        "id": "NmEJ1ZmjhoaN",
        "colab_type": "code",
        "colab": {}
      },
      "cell_type": "code",
      "source": [
        ""
      ],
      "execution_count": 0,
      "outputs": []
    }
  ]
}